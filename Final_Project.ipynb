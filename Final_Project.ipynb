{
 "cells": [
  {
   "cell_type": "code",
   "execution_count": 1,
   "metadata": {},
   "outputs": [
    {
     "data": {
      "text/html": [
       "<table>\n",
       "<thead><tr><th scope=col>ID</th><th scope=col>Platform</th><th scope=col>Project.Name</th><th scope=col>Project.ID</th><th scope=col>Version.Number</th><th scope=col>Version.ID</th><th scope=col>Dependency.Name</th><th scope=col>Dependency.Platform</th><th scope=col>Dependency.Kind</th><th scope=col>Optional.Dependency</th><th scope=col>Dependency.Requirements</th><th scope=col>Dependency.Project.ID</th></tr></thead>\n",
       "<tbody>\n",
       "\t<tr><td>8737          </td><td>Dub           </td><td>a4g           </td><td>197           </td><td>0.1.0         </td><td>2             </td><td>a4g:client    </td><td>Dub           </td><td>runtime       </td><td>NA            </td><td>*             </td><td> NA           </td></tr>\n",
       "\t<tr><td>8738          </td><td>Dub           </td><td>a4g           </td><td>197           </td><td>0.1.0         </td><td>2             </td><td>a4g:server    </td><td>Dub           </td><td>runtime       </td><td>NA            </td><td>*             </td><td> NA           </td></tr>\n",
       "\t<tr><td>8743                                              </td><td>Dub                                               </td><td>ae                                                </td><td>199                                               </td><td>1.0.0                                             </td><td>6                                                 </td><td><span style=white-space:pre-wrap>openssl   </span></td><td>Dub                                               </td><td>runtime                                           </td><td>NA                                                </td><td>&gt;=1.1.3+1.0.1g                                 </td><td>493                                               </td></tr>\n",
       "</tbody>\n",
       "</table>\n"
      ],
      "text/latex": [
       "\\begin{tabular}{r|llllllllllll}\n",
       " ID & Platform & Project.Name & Project.ID & Version.Number & Version.ID & Dependency.Name & Dependency.Platform & Dependency.Kind & Optional.Dependency & Dependency.Requirements & Dependency.Project.ID\\\\\n",
       "\\hline\n",
       "\t 8737           & Dub            & a4g            & 197            & 0.1.0          & 2              & a4g:client     & Dub            & runtime        & NA             & *              &  NA           \\\\\n",
       "\t 8738           & Dub            & a4g            & 197            & 0.1.0          & 2              & a4g:server     & Dub            & runtime        & NA             & *              &  NA           \\\\\n",
       "\t 8743           & Dub            & ae             & 199            & 1.0.0          & 6              & openssl        & Dub            & runtime        & NA             & >=1.1.3+1.0.1g & 493           \\\\\n",
       "\\end{tabular}\n"
      ],
      "text/markdown": [
       "\n",
       "ID | Platform | Project.Name | Project.ID | Version.Number | Version.ID | Dependency.Name | Dependency.Platform | Dependency.Kind | Optional.Dependency | Dependency.Requirements | Dependency.Project.ID | \n",
       "|---|---|---|\n",
       "| 8737           | Dub            | a4g            | 197            | 0.1.0          | 2              | a4g:client     | Dub            | runtime        | NA             | *              |  NA            | \n",
       "| 8738           | Dub            | a4g            | 197            | 0.1.0          | 2              | a4g:server     | Dub            | runtime        | NA             | *              |  NA            | \n",
       "| 8743           | Dub            | ae             | 199            | 1.0.0          | 6              | openssl        | Dub            | runtime        | NA             | >=1.1.3+1.0.1g | 493            | \n",
       "\n",
       "\n"
      ],
      "text/plain": [
       "  ID   Platform Project.Name Project.ID Version.Number Version.ID\n",
       "1 8737 Dub      a4g          197        0.1.0          2         \n",
       "2 8738 Dub      a4g          197        0.1.0          2         \n",
       "3 8743 Dub      ae           199        1.0.0          6         \n",
       "  Dependency.Name Dependency.Platform Dependency.Kind Optional.Dependency\n",
       "1 a4g:client      Dub                 runtime         NA                 \n",
       "2 a4g:server      Dub                 runtime         NA                 \n",
       "3 openssl         Dub                 runtime         NA                 \n",
       "  Dependency.Requirements Dependency.Project.ID\n",
       "1 *                        NA                  \n",
       "2 *                        NA                  \n",
       "3 >=1.1.3+1.0.1g          493                  "
      ]
     },
     "metadata": {},
     "output_type": "display_data"
    },
    {
     "data": {
      "text/plain": [
       "\n",
       "     Atom      CPAN      CRAN     Cargo       Dub       Elm   Haxelib       Hex \n",
       "   163567   2421659    206240    210203      8442     11083      5290     33753 \n",
       "    Maven       NPM     NuGet Packagist       Pub      Pypi  Rubygems \n",
       "  2782529  35985662   2087217   3135799     97771    105649   3985122 "
      ]
     },
     "metadata": {},
     "output_type": "display_data"
    }
   ],
   "source": [
    "x = read.csv(\"/data/libraries.io.data/dependencies-1.0.0-2017-06-15.csv.gz\");\n",
    "x[1:3,]\n",
    "table(x$Platform)\n"
   ]
  },
  {
   "cell_type": "code",
   "execution_count": null,
   "metadata": {
    "collapsed": true
   },
   "outputs": [],
   "source": []
  }
 ],
 "metadata": {
  "kernelspec": {
   "display_name": "R",
   "language": "R",
   "name": "ir"
  },
  "language_info": {
   "codemirror_mode": "r",
   "file_extension": ".r",
   "mimetype": "text/x-r-source",
   "name": "R",
   "pygments_lexer": "r",
   "version": "3.4.1"
  }
 },
 "nbformat": 4,
 "nbformat_minor": 2
}
